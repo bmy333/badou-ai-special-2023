{
 "cells": [
  {
   "cell_type": "code",
   "execution_count": 1,
   "id": "030d93ad",
   "metadata": {},
   "outputs": [],
   "source": [
    "import cv2\n",
    "import numpy as np"
   ]
  },
  {
   "cell_type": "code",
   "execution_count": 2,
   "id": "b83a526e",
   "metadata": {},
   "outputs": [
    {
     "name": "stdout",
     "output_type": "stream",
     "text": [
      "1011111010011110100111011010100110101011101000110000111000101100\n",
      "1011011010011110100111011010100110101011101000111010111000101100\n",
      "均值哈希算法相似度： 3\n",
      "1000100110001101101000101010010001000110111011001010010110000011\n",
      "1001100110001101100000101110010011000110011011000010010111000011\n",
      "差值哈希算法相似度： 7\n"
     ]
    }
   ],
   "source": [
    "def aHash(img):\n",
    "    img=cv2.resize(img,(8,8),interpolation=cv2.INTER_CUBIC) # bicubic interpolation\n",
    "    gray=cv2.cvtColor(img,cv2.COLOR_BGR2GRAY)\n",
    "    s=0\n",
    "    hash_str=''\n",
    "    for i in range(8):\n",
    "        for j in range(8):\n",
    "            s=s+gray[i,j]\n",
    "    avg=s/64\n",
    "    for i in range(8):\n",
    "        for j in range(8):\n",
    "            if  gray[i,j]>avg:\n",
    "                hash_str=hash_str+'1'\n",
    "            else:\n",
    "                hash_str=hash_str+'0'            \n",
    "    return hash_str\n",
    "\n",
    "def dHash(img):\n",
    "    img=cv2.resize(img,(9,8),interpolation=cv2.INTER_CUBIC)\n",
    "    gray=cv2.cvtColor(img,cv2.COLOR_BGR2GRAY)\n",
    "    hash_str=''\n",
    "    for i in range(8):\n",
    "        for j in range(8):\n",
    "            if   gray[i,j]>gray[i,j+1]:\n",
    "                hash_str=hash_str+'1'\n",
    "            else:\n",
    "                hash_str=hash_str+'0'\n",
    "    return hash_str\n",
    "\n",
    "def cmpHash(hash1,hash2):\n",
    "    n=0\n",
    "    if len(hash1)!=len(hash2):\n",
    "        return -1\n",
    "    for i in range(len(hash1)):\n",
    "        if hash1[i]!=hash2[i]:\n",
    "            n=n+1\n",
    "    return n\n",
    " \n",
    "img1=cv2.imread('lenna.png')\n",
    "img2=cv2.imread('lenna_noise.png')\n",
    "hash1= aHash(img1)\n",
    "hash2= aHash(img2)\n",
    "print(hash1)\n",
    "print(hash2)\n",
    "n=cmpHash(hash1,hash2)\n",
    "print('均值哈希算法相似度：',n)\n",
    " \n",
    "hash1= dHash(img1)\n",
    "hash2= dHash(img2)\n",
    "print(hash1)\n",
    "print(hash2)\n",
    "n=cmpHash(hash1,hash2)\n",
    "print('差值哈希算法相似度：',n)"
   ]
  }
 ],
 "metadata": {
  "kernelspec": {
   "display_name": "Python 3 (ipykernel)",
   "language": "python",
   "name": "python3"
  },
  "language_info": {
   "codemirror_mode": {
    "name": "ipython",
    "version": 3
   },
   "file_extension": ".py",
   "mimetype": "text/x-python",
   "name": "python",
   "nbconvert_exporter": "python",
   "pygments_lexer": "ipython3",
   "version": "3.8.18"
  },
  "toc": {
   "base_numbering": 1,
   "nav_menu": {},
   "number_sections": true,
   "sideBar": true,
   "skip_h1_title": false,
   "title_cell": "Table of Contents",
   "title_sidebar": "Contents",
   "toc_cell": false,
   "toc_position": {},
   "toc_section_display": true,
   "toc_window_display": false
  }
 },
 "nbformat": 4,
 "nbformat_minor": 5
}
