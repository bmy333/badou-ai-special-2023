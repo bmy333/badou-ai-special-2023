{
 "cells": [
  {
   "cell_type": "markdown",
   "id": "57513ff7",
   "metadata": {},
   "source": [
    "# PCA_detail"
   ]
  },
  {
   "cell_type": "code",
   "execution_count": 1,
   "id": "bd74f3f9",
   "metadata": {},
   "outputs": [],
   "source": [
    "import numpy as np"
   ]
  },
  {
   "cell_type": "code",
   "execution_count": 2,
   "id": "478e8c71",
   "metadata": {},
   "outputs": [],
   "source": [
    "class PCA:\n",
    "    def __init__(self, X, k):\n",
    "        self.X = X\n",
    "        self.k = k\n",
    "        self.centr_X = []\n",
    "        self.cov = []\n",
    "        self.U = []\n",
    "        self.Z = []\n",
    "        \n",
    "        self.centr_X = self._centralized()\n",
    "        self.cov = self._cov()\n",
    "        self.U = self._U()\n",
    "        self.Z = self._Z()\n",
    "\n",
    "    def _centralized(self):\n",
    "        print('样本矩阵X:\\n', self.X)\n",
    "        centr_X = []\n",
    "        mean = np.array([np.mean(feature) for feature in self.X.T])\n",
    "        print('样本集的特征均值:\\n', mean)\n",
    "        centr_X = self.X - mean\n",
    "        print('样本矩阵X的中心化:\\n', centr_X)\n",
    "        return centr_X\n",
    "\n",
    "    def _cov(self):\n",
    "        n = self.centr_X.shape[0]\n",
    "        Cov = np.dot(self.centr_X.T, self.centr_X)/(n - 1)\n",
    "        print('样本矩阵X的协方差矩阵:\\n', Cov)\n",
    "        return Cov\n",
    "\n",
    "    def _U(self):\n",
    "        a, b = np.linalg.eig(self.cov)\n",
    "        print('协方差矩阵的特征值:\\n', a)\n",
    "        print('协方差矩阵的特征向量\\n', b)\n",
    "        ind = np.argsort(-a)\n",
    "        UT = [b[:,ind[i]] for i in range(self.k)]\n",
    "        U = np.transpose(UT)\n",
    "        print('%d阶降维转换矩阵U:\\n'%self.k, U)\n",
    "        return U\n",
    "    \n",
    "    def _Z(self):\n",
    "        Z = np.dot(self.X, self.U)\n",
    "        print('X shape:', self.X.shape)\n",
    "        print('U shape:', self.U.shape)\n",
    "        print('Z shape:', Z.shape)\n",
    "        print('样本矩阵X的降维矩阵:\\n', Z)\n",
    "        return Z"
   ]
  },
  {
   "cell_type": "code",
   "execution_count": 3,
   "id": "ce45a6a0",
   "metadata": {},
   "outputs": [
    {
     "name": "stdout",
     "output_type": "stream",
     "text": [
      "样本矩阵X:\n",
      " [[97 41 11]\n",
      " [13 20 44]\n",
      " [66 27 86]\n",
      " [63 41 46]\n",
      " [25 39 72]]\n",
      "样本集的特征均值:\n",
      " [52.8 33.6 51.8]\n",
      "样本矩阵X的中心化:\n",
      " [[ 44.2   7.4 -40.8]\n",
      " [-39.8 -13.6  -7.8]\n",
      " [ 13.2  -6.6  34.2]\n",
      " [ 10.2   7.4  -5.8]\n",
      " [-27.8   5.4  20.2]]\n",
      "样本矩阵X的协方差矩阵:\n",
      " [[1147.2   176.65 -415.55]\n",
      " [ 176.65   91.8   -88.85]\n",
      " [-415.55  -88.85  834.2 ]]\n",
      "协方差矩阵的特征值:\n",
      " [1462.73035154  548.16561463   62.30403384]\n",
      "协方差矩阵的特征向量\n",
      " [[ 0.81645992  0.55815204 -0.14784958]\n",
      " [ 0.1414848   0.05486082  0.98841911]\n",
      " [-0.55979929  0.82792306  0.03417837]]\n",
      "2阶降维转换矩阵U:\n",
      " [[ 0.81645992  0.55815204]\n",
      " [ 0.1414848   0.05486082]\n",
      " [-0.55979929  0.82792306]]\n",
      "X shape: (5, 3)\n",
      "U shape: (3, 2)\n",
      "Z shape: (5, 2)\n",
      "样本矩阵X的降维矩阵:\n",
      " [[ 78.83969717  65.4971951 ]\n",
      " [-11.18749375  44.78180759]\n",
      " [  9.5637055  109.52065987]\n",
      " [ 31.48708464  75.49733291]\n",
      " [-14.37614357  75.70383337]]\n"
     ]
    }
   ],
   "source": [
    "X = np.random.randint(1, 100, (5, 3))\n",
    "k = np.shape(X)[1]-1\n",
    "pca = PCA(X, k)"
   ]
  },
  {
   "cell_type": "markdown",
   "id": "f3630d22",
   "metadata": {},
   "source": [
    "# PCA Invoked by sklearn"
   ]
  },
  {
   "cell_type": "code",
   "execution_count": 4,
   "id": "edd83789",
   "metadata": {},
   "outputs": [],
   "source": [
    "from sklearn.decomposition import PCA"
   ]
  },
  {
   "cell_type": "code",
   "execution_count": 5,
   "id": "de1ca501",
   "metadata": {},
   "outputs": [
    {
     "name": "stdout",
     "output_type": "stream",
     "text": [
      "[[88 64 23 16]\n",
      " [99 30 49  7]\n",
      " [20 22 77 80]\n",
      " [31 48 20 58]\n",
      " [67 81 36 94]\n",
      " [61 45 84 16]]\n",
      "[0.55137083 0.31413749 0.09776351]\n",
      "[[-40.92899318  26.70943143   6.60201772]\n",
      " [-53.44159479 -10.03483451  -0.3495946 ]\n",
      " [ 54.03101898 -37.98878058   0.52496592]\n",
      " [ 26.56299106  14.34141356  30.46134245]\n",
      " [ 34.62420441  42.79469292 -24.5587158 ]\n",
      " [-20.84762647 -35.82192282 -12.68001569]]\n"
     ]
    }
   ],
   "source": [
    "X = np.random.randint(1, 100, (6, 4))\n",
    "print(X)\n",
    "pca = PCA(n_components=3)\n",
    "pca.fit(X)\n",
    "new_X = pca.fit_transform(X)\n",
    "print(pca.explained_variance_ratio_)\n",
    "print(new_X)"
   ]
  }
 ],
 "metadata": {
  "kernelspec": {
   "display_name": "Python 3 (ipykernel)",
   "language": "python",
   "name": "python3"
  },
  "language_info": {
   "codemirror_mode": {
    "name": "ipython",
    "version": 3
   },
   "file_extension": ".py",
   "mimetype": "text/x-python",
   "name": "python",
   "nbconvert_exporter": "python",
   "pygments_lexer": "ipython3",
   "version": "3.8.18"
  },
  "toc": {
   "base_numbering": 1,
   "nav_menu": {},
   "number_sections": true,
   "sideBar": true,
   "skip_h1_title": false,
   "title_cell": "Table of Contents",
   "title_sidebar": "Contents",
   "toc_cell": false,
   "toc_position": {},
   "toc_section_display": true,
   "toc_window_display": false
  }
 },
 "nbformat": 4,
 "nbformat_minor": 5
}
