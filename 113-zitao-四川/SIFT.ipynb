{
 "cells": [
  {
   "cell_type": "markdown",
   "id": "a4af18ba",
   "metadata": {},
   "source": [
    "# Detect Keypoints"
   ]
  },
  {
   "cell_type": "code",
   "execution_count": 1,
   "id": "04ae3cb7",
   "metadata": {},
   "outputs": [],
   "source": [
    "import cv2\n",
    "import numpy as np"
   ]
  },
  {
   "cell_type": "code",
   "execution_count": 2,
   "id": "eb76fad6",
   "metadata": {},
   "outputs": [
    {
     "data": {
      "text/plain": [
       "-1"
      ]
     },
     "execution_count": 2,
     "metadata": {},
     "output_type": "execute_result"
    }
   ],
   "source": [
    "img = cv2.imread('lenna.png')\n",
    "gray = cv2.cvtColor(img, cv2.COLOR_BGR2GRAY)\n",
    "\n",
    "sift = cv2.SIFT_create()\n",
    "kp, des = sift.detectAndCompute(gray, None) # kp will be a list of keypoints and des is a numpy array of shape (number of keypoints, 128)\n",
    "\n",
    "img = cv2.drawKeypoints(image=img, keypoints=kp, outImage=img,\n",
    "                        flags=cv2.DRAW_MATCHES_FLAGS_DRAW_RICH_KEYPOINTS,\n",
    "                        color=(51, 163, 236))\n",
    "\n",
    "cv2.imshow('sift_keypoints', img)\n",
    "cv2.waitKey(0)"
   ]
  },
  {
   "cell_type": "markdown",
   "id": "2ce3d796",
   "metadata": {},
   "source": [
    "# Feature Matching"
   ]
  },
  {
   "cell_type": "code",
   "execution_count": 3,
   "id": "b70ce667",
   "metadata": {},
   "outputs": [
    {
     "data": {
      "text/plain": [
       "-1"
      ]
     },
     "execution_count": 3,
     "metadata": {},
     "output_type": "execute_result"
    }
   ],
   "source": [
    "def drawMatchesknn_cv2(img1_gray, kp1, img2_gray, kp2, goodMatch):\n",
    "    h1, w1 = img1_gray.shape[:2]\n",
    "    h2, w2 = img2_gray.shape[:2]\n",
    "    \n",
    "    vis = np.zeros((max(h1, h2), w1 + w2, 3), np.uint8)\n",
    "    vis[:h1, :w1] = img1_gray\n",
    "    vis[:h2, w1:w1 + w2] = img2_gray\n",
    "    \n",
    "    p1 = [kpp.queryIdx for kpp in goodMatch]\n",
    "    p2 = [kpp.trainIdx for kpp in goodMatch]\n",
    "\n",
    "    post1 = np.int32([kp1[pp].pt for pp in p1]) # points2f means array of (x,y) coordinates of the keypoints\n",
    "    post2 = np.int32([kp2[pp].pt for pp in p2]) + (w1, 0)\n",
    "\n",
    "    for (x1, y1), (x2, y2) in zip(post1, post2):\n",
    "        cv2.line(vis, (x1, y1), (x2, y2), (0,0,255))\n",
    " \n",
    "    cv2.namedWindow(\"match\",cv2.WINDOW_NORMAL) # show an image that is bigger than the screen resolution\n",
    "    cv2.imshow(\"match\", vis)\n",
    "\n",
    "img1_gray = cv2.imread('iphone1.png')\n",
    "img2_gray = cv2.imread('iphone2.png')\n",
    "\n",
    "sift = cv2.SIFT_create()\n",
    "\n",
    "kp1, des1 = sift.detectAndCompute(img1_gray, None)\n",
    "kp2, des2 = sift.detectAndCompute(img2_gray, None)\n",
    "\n",
    "bf = cv2.BFMatcher.create(cv2.NORM_L1) # create BFMatcher object\n",
    "matches = bf.knnMatch(des1, des2, k = 2)\n",
    "#matches = bf.match(des1, des2) # match descriptors\n",
    "\n",
    "goodMatches = []\n",
    "for m,n in matches:\n",
    "    if m.distance < 0.5 * n.distance:\n",
    "        goodMatches.append(m)\n",
    "#matches = sorted(matches, key = lambda x:x.distance) # sort them in the order of their distance\n",
    "\n",
    "drawMatchesknn_cv2(img1_gray, kp1, img2_gray, kp2, goodMatches[:20])\n",
    "cv2.waitKey(0)"
   ]
  }
 ],
 "metadata": {
  "kernelspec": {
   "display_name": "Python 3 (ipykernel)",
   "language": "python",
   "name": "python3"
  },
  "language_info": {
   "codemirror_mode": {
    "name": "ipython",
    "version": 3
   },
   "file_extension": ".py",
   "mimetype": "text/x-python",
   "name": "python",
   "nbconvert_exporter": "python",
   "pygments_lexer": "ipython3",
   "version": "3.8.18"
  },
  "toc": {
   "base_numbering": 1,
   "nav_menu": {},
   "number_sections": true,
   "sideBar": true,
   "skip_h1_title": false,
   "title_cell": "Table of Contents",
   "title_sidebar": "Contents",
   "toc_cell": false,
   "toc_position": {},
   "toc_section_display": true,
   "toc_window_display": false
  }
 },
 "nbformat": 4,
 "nbformat_minor": 5
}
