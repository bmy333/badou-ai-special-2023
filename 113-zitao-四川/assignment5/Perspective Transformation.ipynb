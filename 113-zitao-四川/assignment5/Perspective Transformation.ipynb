{
 "cells": [
  {
   "cell_type": "markdown",
   "id": "eae9e669",
   "metadata": {},
   "source": [
    "# Find the vertex"
   ]
  },
  {
   "cell_type": "code",
   "execution_count": 1,
   "id": "5e01c28b",
   "metadata": {},
   "outputs": [],
   "source": [
    "import cv2\n",
    "import numpy as np"
   ]
  },
  {
   "cell_type": "code",
   "execution_count": 2,
   "id": "315a82ed",
   "metadata": {},
   "outputs": [
    {
     "name": "stdout",
     "output_type": "stream",
     "text": [
      "[[[207 151]]\n",
      "\n",
      " [[ 16 603]]\n",
      "\n",
      " [[344 732]]\n",
      "\n",
      " [[518 283]]]\n"
     ]
    }
   ],
   "source": [
    "img = cv2.imread('photo1.jpg')\n",
    "gray = cv2.cvtColor(img, cv2.COLOR_BGR2GRAY)\n",
    "blurred = cv2.GaussianBlur(gray, (5, 5), 0)\n",
    "dilate = cv2.dilate(blurred, cv2.getStructuringElement(cv2.MORPH_RECT, (3, 3))) # create a kernel of size 3 x 3 and dilate image\n",
    "edged = cv2.Canny(dilate, 30, 120, 3) # edge detection\n",
    "\n",
    "cnts = cv2.findContours(edged.copy(), cv2.RETR_EXTERNAL, cv2.CHAIN_APPROX_SIMPLE)  # retrieve only the extreme outer contours and compress horizontal, vertical, and diagonal segments and leaves only their end points\n",
    "cnts = cnts[0] # image\n",
    "docCnt = None\n",
    "\n",
    "if len(cnts) > 0:\n",
    "    cnts = sorted(cnts, key=cv2.contourArea, reverse=True)\n",
    "    for c in cnts:\n",
    "        peri = cv2.arcLength(c, True) # arc length\n",
    "        approx = cv2.approxPolyDP(c, 0.02*peri, True) # approximate a curve/polygon with another curve/polygon with less vertices o that the distance between them is less or equal to the specified precision\n",
    "        if len(approx) == 4:\n",
    "            docCnt = approx\n",
    "            break\n",
    "print(docCnt)\n",
    "for peak in docCnt:\n",
    "    peak = peak[0]\n",
    "    cv2.circle(img, tuple(peak), 10, (255, 0, 0))\n",
    "    \n",
    "#cv2.imshow('img', img)\n",
    "#cv2.waitKey(0)"
   ]
  },
  {
   "cell_type": "markdown",
   "id": "39174f17",
   "metadata": {},
   "source": [
    "# Perspective Transformation"
   ]
  },
  {
   "cell_type": "code",
   "execution_count": 3,
   "id": "c286a66e",
   "metadata": {},
   "outputs": [
    {
     "name": "stdout",
     "output_type": "stream",
     "text": [
      "(960, 540, 3)\n",
      "warpMatrix:\n",
      "[[ 1.06163179e+00  4.48609893e-01 -2.87497874e+02]\n",
      " [-4.12062052e-01  9.70843167e-01 -6.13004736e+01]\n",
      " [-8.42123816e-05  6.03604064e-05  1.00000000e+00]]\n"
     ]
    },
    {
     "data": {
      "text/plain": [
       "-1"
      ]
     },
     "execution_count": 3,
     "metadata": {},
     "output_type": "execute_result"
    }
   ],
   "source": [
    "img1 = cv2.imread('photo1.jpg')\n",
    "result = img1.copy()\n",
    "\n",
    "src = np.float32([[207, 151], [16, 603], [344, 732], [518, 283]])\n",
    "dst = np.float32([[0, 0], [0, 500], [400, 500], [400, 0]])\n",
    "print(img1.shape)\n",
    "m = cv2.getPerspectiveTransform(src, dst)\n",
    "print(\"warpMatrix:\")\n",
    "print(m)\n",
    "result1 = cv2.warpPerspective(result, m, (400, 500))\n",
    "cv2.imshow(\"src\",img1)\n",
    "cv2.imshow(\"result\",result1)\n",
    "cv2.waitKey()"
   ]
  },
  {
   "cell_type": "markdown",
   "id": "111db901",
   "metadata": {},
   "source": [
    "# WarpMatrix"
   ]
  },
  {
   "cell_type": "code",
   "execution_count": 4,
   "id": "5f778b4f",
   "metadata": {},
   "outputs": [
    {
     "name": "stdout",
     "output_type": "stream",
     "text": [
      "warpMatrix\n",
      "[[-5.01338334e-01 -1.35357643e+00  5.82386716e+02]\n",
      " [-1.66533454e-15 -4.84035391e+00  1.38781980e+03]\n",
      " [-4.33680869e-19 -4.14856327e-03  1.00000000e+00]]\n"
     ]
    }
   ],
   "source": [
    "def WarpPerspectiveMatrix(src, dst):\n",
    "    assert src.shape[0] == dst.shape[0] and src.shape[0] >= 4\n",
    "    \n",
    "    nums = src.shape[0]\n",
    "    A = np.zeros((2*nums, 8))\n",
    "    B = np.zeros((2*nums, 1))\n",
    "    for i in range(0, nums):\n",
    "        A_i = src[i,:]\n",
    "        B_i = dst[i,:]\n",
    " \n",
    "        A[2*i, :] = [A_i[0], A_i[1], 1, 0, 0, 0, -A_i[0]*B_i[0], -A_i[1]*B_i[0]]\n",
    "        B[2*i] = B_i[0]\n",
    "        \n",
    "        A[2*i+1, :] = [0, 0, 0, A_i[0], A_i[1], 1, -A_i[0]*B_i[1], -A_i[1]*B_i[1]]\n",
    "        B[2*i+1] = B_i[1]\n",
    "\n",
    "    A = np.mat(A)\n",
    "    warpMatrix = A.I * B\n",
    "    warpMatrix = np.array(warpMatrix).T[0]\n",
    "    warpMatrix = np.insert(warpMatrix, warpMatrix.shape[0], values=1.0, axis=0)\n",
    "    warpMatrix = warpMatrix.reshape((3, 3))\n",
    "    return warpMatrix\n",
    "\n",
    "if __name__ == '__main__':\n",
    "    print('warpMatrix')\n",
    "    src = np.array([[10.0, 457.0], [395.0, 291.0], [624.0, 291.0], [1000.0, 457.0]])\n",
    "    dst = np.array([[46.0, 920.0], [46.0, 100.0], [600.0, 100.0], [600.0, 920.0]])\n",
    "    \n",
    "    warpMatrix = WarpPerspectiveMatrix(src, dst)\n",
    "    print(warpMatrix)"
   ]
  }
 ],
 "metadata": {
  "kernelspec": {
   "display_name": "Python 3 (ipykernel)",
   "language": "python",
   "name": "python3"
  },
  "language_info": {
   "codemirror_mode": {
    "name": "ipython",
    "version": 3
   },
   "file_extension": ".py",
   "mimetype": "text/x-python",
   "name": "python",
   "nbconvert_exporter": "python",
   "pygments_lexer": "ipython3",
   "version": "3.8.18"
  },
  "toc": {
   "base_numbering": 1,
   "nav_menu": {},
   "number_sections": true,
   "sideBar": true,
   "skip_h1_title": false,
   "title_cell": "Table of Contents",
   "title_sidebar": "Contents",
   "toc_cell": false,
   "toc_position": {},
   "toc_section_display": true,
   "toc_window_display": false
  }
 },
 "nbformat": 4,
 "nbformat_minor": 5
}
